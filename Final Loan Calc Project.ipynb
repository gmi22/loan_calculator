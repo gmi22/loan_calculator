{
 "cells": [
  {
   "cell_type": "code",
   "execution_count": null,
   "metadata": {},
   "outputs": [],
   "source": [
    "import numpy as np"
   ]
  },
  {
   "cell_type": "code",
   "execution_count": null,
   "metadata": {},
   "outputs": [],
   "source": [
    "from tabulate import tabulate"
   ]
  },
  {
   "cell_type": "code",
   "execution_count": null,
   "metadata": {},
   "outputs": [],
   "source": [
    "import xlwt"
   ]
  },
  {
   "cell_type": "code",
   "execution_count": null,
   "metadata": {},
   "outputs": [],
   "source": [
    "from xlwt import Workbook "
   ]
  },
  {
   "cell_type": "code",
   "execution_count": null,
   "metadata": {},
   "outputs": [],
   "source": [
    "ir = int(float(input('What is the interest of the current loan')))/(100)"
   ]
  },
  {
   "cell_type": "code",
   "execution_count": null,
   "metadata": {},
   "outputs": [],
   "source": [
    "number_of_months = int(input('How many years are left on the current loan'))*12"
   ]
  },
  {
   "cell_type": "code",
   "execution_count": null,
   "metadata": {},
   "outputs": [],
   "source": [
    "amount_barrowed = int(input('How much is left on the current loan'))"
   ]
  },
  {
   "cell_type": "code",
   "execution_count": null,
   "metadata": {},
   "outputs": [],
   "source": [
    "ir_2 = int(float(input('What is the interest for the second loan')))/(100)"
   ]
  },
  {
   "cell_type": "code",
   "execution_count": null,
   "metadata": {},
   "outputs": [],
   "source": [
    "number_of_months_2 = int(input('How many years is the second loan'))*12"
   ]
  },
  {
   "cell_type": "code",
   "execution_count": null,
   "metadata": {},
   "outputs": [],
   "source": [
    "amount_barrowed_2 = int(input('How much is the second loan'))"
   ]
  },
  {
   "cell_type": "code",
   "execution_count": null,
   "metadata": {},
   "outputs": [],
   "source": [
    "def payment():\n",
    "\n",
    "    pmt = np.ppmt(ir/12,1,number_of_months,amount_barrowed)\n",
    "    inter = np.ipmt(ir/12,1,number_of_months,amount_barrowed)\n",
    "    total_pmt = round(abs(pmt)) + round(abs(inter))\n",
    "    \n",
    "    return round(abs(total_pmt))"
   ]
  },
  {
   "cell_type": "code",
   "execution_count": null,
   "metadata": {},
   "outputs": [],
   "source": [
    "def interest():\n",
    "    \n",
    "\n",
    "    total_int = 0\n",
    "\n",
    "    for i in range(1,(number_of_months)+1):\n",
    "    \n",
    "         total_int =+ total_int+np.ipmt(ir/12,i,number_of_months,amount_barrowed)\n",
    "    \n",
    "    return round(abs(total_int))"
   ]
  },
  {
   "cell_type": "code",
   "execution_count": null,
   "metadata": {},
   "outputs": [],
   "source": [
    "def principle():\n",
    "    \n",
    "\n",
    "    total_prince = 0\n",
    "\n",
    "    for i in range(1,(number_of_months)+1):\n",
    "    \n",
    "         total_prince =+ total_prince+np.ppmt(ir/12,i,number_of_months,amount_barrowed)\n",
    "    \n",
    "    return round(abs(total_prince))"
   ]
  },
  {
   "cell_type": "code",
   "execution_count": null,
   "metadata": {},
   "outputs": [],
   "source": [
    "def payment_2():\n",
    "\n",
    "    pmt_2 = np.ppmt(ir_2/12,1,number_of_months_2,amount_barrowed_2)\n",
    "    inter_2 = np.ipmt(ir_2/12,1,number_of_months_2,amount_barrowed_2)\n",
    "    total_pmt_2 = round(abs(pmt_2)) + round(abs(inter_2))\n",
    "    \n",
    "    return round((abs(total_pmt_2)))"
   ]
  },
  {
   "cell_type": "code",
   "execution_count": null,
   "metadata": {},
   "outputs": [],
   "source": [
    "def interest_2():\n",
    "    \n",
    "\n",
    "    total_int_2 = 0\n",
    "\n",
    "    for i in range(1,(number_of_months_2)+1):\n",
    "    \n",
    "         total_int_2 =+ total_int_2+np.ipmt(ir_2/12,i,number_of_months_2,amount_barrowed_2)\n",
    "    \n",
    "    return round(abs(total_int_2))"
   ]
  },
  {
   "cell_type": "code",
   "execution_count": null,
   "metadata": {},
   "outputs": [],
   "source": [
    "def principle_2():\n",
    "    \n",
    "\n",
    "    total_prince_2 = 0\n",
    "\n",
    "    for i in range(1,(number_of_months_2)+1):\n",
    "    \n",
    "         total_prince_2 =+ total_prince_2+np.ppmt(ir_2/12,i,number_of_months_2,amount_barrowed_2)\n",
    "    \n",
    "    return round(abs(total_prince_2))"
   ]
  },
  {
   "cell_type": "code",
   "execution_count": null,
   "metadata": {},
   "outputs": [],
   "source": [
    "def diff(a,b,c,d,e,f):\n",
    "    print('Current loan payment is : {} '.format(a) )\n",
    "    print('New loan payment is : {}'.format(d))\n",
    "    print('The diffrence between the loans are : {}'.format(a-d))\n",
    "    print('Total cost of the current loan is : {}'.format(b))\n",
    "    print('Total cost of second loan is : {}'.format(e))"
   ]
  },
  {
   "cell_type": "code",
   "execution_count": null,
   "metadata": {},
   "outputs": [],
   "source": [
    "diff(payment(),interest(),principle(),payment_2(),interest_2(),principle_2())"
   ]
  },
  {
   "cell_type": "code",
   "execution_count": null,
   "metadata": {},
   "outputs": [],
   "source": [
    "def amort_one():\n",
    "    for i in range(1,(number_of_months)+1):\n",
    "            print(tabulate([[i, ((np.ppmt(ir/12,i,number_of_months,amount_barrowed)*-1 + (np.ipmt(ir/12,i,number_of_months,amount_barrowed)*-1))),(np.ppmt(ir/12,i,number_of_months,amount_barrowed)*-1),(np.ipmt(ir/12,i,number_of_months,amount_barrowed)*-1)]],headers=['Payment Number','Monthly Payment','Interest','Principle']))\n",
    "        "
   ]
  },
  {
   "cell_type": "code",
   "execution_count": null,
   "metadata": {},
   "outputs": [],
   "source": [
    "def amort_xls():\n",
    "    wb = Workbook()\n",
    "    sheet1 = wb.add_sheet('Amort_Table',cell_overwrite_ok=True)\n",
    "    \n",
    "    for i in range(1,(number_of_months)+1):\n",
    "        sheet1.write(i,0,i)\n",
    "        sheet1.write(i,1,((np.ppmt(ir/12,i,number_of_months,amount_barrowed)*-1 + (np.ipmt(ir/12,i,number_of_months,amount_barrowed)*-1))))\n",
    "        sheet1.write(i,2,(np.ipmt(ir/12,i,number_of_months,amount_barrowed)*-1))\n",
    "        sheet1.write(i,3,(np.ppmt(ir/12,i,number_of_months,amount_barrowed)*-1))\n",
    "        sheet1.write(0,0,'Payment Number')\n",
    "        sheet1.write(0,1,'Monthly Amount')\n",
    "        sheet1.write(0,2,'Interest')\n",
    "        sheet1.write(0,3,'Principle')\n",
    "    \n",
    "        wb.save('C:\\\\Users\\\\georg\\\\desktop\\\\Loan_Amortization_One.xls')"
   ]
  },
  {
   "cell_type": "code",
   "execution_count": null,
   "metadata": {},
   "outputs": [],
   "source": []
  }
 ],
 "metadata": {
  "kernelspec": {
   "display_name": "Python 3",
   "language": "python",
   "name": "python3"
  },
  "language_info": {
   "codemirror_mode": {
    "name": "ipython",
    "version": 3
   },
   "file_extension": ".py",
   "mimetype": "text/x-python",
   "name": "python",
   "nbconvert_exporter": "python",
   "pygments_lexer": "ipython3",
   "version": "3.7.0"
  }
 },
 "nbformat": 4,
 "nbformat_minor": 2
}
